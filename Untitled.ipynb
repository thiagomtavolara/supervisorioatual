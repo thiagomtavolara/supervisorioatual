{
 "cells": [
  {
   "cell_type": "code",
   "execution_count": null,
   "id": "3912b109",
   "metadata": {},
   "outputs": [],
   "source": [
    "pip install serial.tools.list_ports"
   ]
  },
  {
   "cell_type": "code",
   "execution_count": null,
   "id": "4430c450",
   "metadata": {},
   "outputs": [],
   "source": [
    "pip install bidict==0.23.1"
   ]
  },
  {
   "cell_type": "code",
   "execution_count": null,
   "id": "bd8adb7b",
   "metadata": {},
   "outputs": [],
   "source": [
    "pip install blinker==1.7.0"
   ]
  },
  {
   "cell_type": "code",
   "execution_count": null,
   "id": "b98ee0b7",
   "metadata": {},
   "outputs": [],
   "source": [
    "pip install certifi==2024.2.2"
   ]
  },
  {
   "cell_type": "code",
   "execution_count": null,
   "id": "5f3746da",
   "metadata": {},
   "outputs": [],
   "source": [
    "pip install -r requirements.txt"
   ]
  },
  {
   "cell_type": "code",
   "execution_count": null,
   "id": "940c08a4",
   "metadata": {},
   "outputs": [],
   "source": [
    "pip install flask"
   ]
  },
  {
   "cell_type": "code",
   "execution_count": null,
   "id": "e096afdc",
   "metadata": {},
   "outputs": [],
   "source": [
    "pip install dash_application.dash"
   ]
  },
  {
   "cell_type": "code",
   "execution_count": null,
   "id": "c53532e5",
   "metadata": {},
   "outputs": [],
   "source": []
  }
 ],
 "metadata": {
  "kernelspec": {
   "display_name": "Python 3 (ipykernel)",
   "language": "python",
   "name": "python3"
  },
  "language_info": {
   "codemirror_mode": {
    "name": "ipython",
    "version": 3
   },
   "file_extension": ".py",
   "mimetype": "text/x-python",
   "name": "python",
   "nbconvert_exporter": "python",
   "pygments_lexer": "ipython3",
   "version": "3.9.16"
  }
 },
 "nbformat": 4,
 "nbformat_minor": 5
}
